{
  "nbformat": 4,
  "nbformat_minor": 0,
  "metadata": {
    "colab": {
      "provenance": []
    },
    "kernelspec": {
      "name": "python3",
      "display_name": "Python 3"
    },
    "language_info": {
      "name": "python"
    }
  },
  "cells": [
    {
      "cell_type": "markdown",
      "source": [
        "#Teoria de Conjuntos"
      ],
      "metadata": {
        "id": "QC45Gz3GdlPI"
      }
    },
    {
      "cell_type": "code",
      "execution_count": null,
      "metadata": {
        "id": "a1XEq_Xucws6"
      },
      "outputs": [],
      "source": [
        "from supervenn import supervenn\n",
        "set ="
      ]
    }
  ]
}